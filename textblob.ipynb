{
  "nbformat": 4,
  "nbformat_minor": 0,
  "metadata": {
    "colab": {
      "provenance": []
    },
    "kernelspec": {
      "name": "python3",
      "display_name": "Python 3"
    },
    "language_info": {
      "name": "python"
    }
  },
  "cells": [
    {
      "cell_type": "markdown",
      "source": [],
      "metadata": {
        "id": "uWdQfMPiZy1q"
      }
    },
    {
      "cell_type": "markdown",
      "source": [
        "# Como instalar atualizando o textblob?"
      ],
      "metadata": {
        "id": "40PGjA-1Z1X7"
      }
    },
    {
      "cell_type": "code",
      "source": [
        "! pip install --upgrade textblob\n"
      ],
      "metadata": {
        "colab": {
          "base_uri": "https://localhost:8080/"
        },
        "id": "QvU37rKuZ-dT",
        "outputId": "1d246282-cfda-4f03-f4cd-cad22f342571"
      },
      "execution_count": 1,
      "outputs": [
        {
          "output_type": "stream",
          "name": "stdout",
          "text": [
            "Requirement already satisfied: textblob in /usr/local/lib/python3.10/dist-packages (0.17.1)\n",
            "Collecting textblob\n",
            "  Downloading textblob-0.18.0.post0-py3-none-any.whl.metadata (4.5 kB)\n",
            "Requirement already satisfied: nltk>=3.8 in /usr/local/lib/python3.10/dist-packages (from textblob) (3.8.1)\n",
            "Requirement already satisfied: click in /usr/local/lib/python3.10/dist-packages (from nltk>=3.8->textblob) (8.1.7)\n",
            "Requirement already satisfied: joblib in /usr/local/lib/python3.10/dist-packages (from nltk>=3.8->textblob) (1.4.2)\n",
            "Requirement already satisfied: regex>=2021.8.3 in /usr/local/lib/python3.10/dist-packages (from nltk>=3.8->textblob) (2024.9.11)\n",
            "Requirement already satisfied: tqdm in /usr/local/lib/python3.10/dist-packages (from nltk>=3.8->textblob) (4.66.5)\n",
            "Downloading textblob-0.18.0.post0-py3-none-any.whl (626 kB)\n",
            "\u001b[2K   \u001b[90m━━━━━━━━━━━━━━━━━━━━━━━━━━━━━━━━━━━━━━━━\u001b[0m \u001b[32m626.3/626.3 kB\u001b[0m \u001b[31m13.7 MB/s\u001b[0m eta \u001b[36m0:00:00\u001b[0m\n",
            "\u001b[?25hInstalling collected packages: textblob\n",
            "  Attempting uninstall: textblob\n",
            "    Found existing installation: textblob 0.17.1\n",
            "    Uninstalling textblob-0.17.1:\n",
            "      Successfully uninstalled textblob-0.17.1\n",
            "Successfully installed textblob-0.18.0.post0\n"
          ]
        }
      ]
    },
    {
      "cell_type": "markdown",
      "source": [
        "# O TextBlob é uma biblioteca em Python para processamento de linguagem natural (NLP). Ela é fácil de usar e permite realizar várias tarefas, como:\n",
        "\n",
        "    1. Análise de Sentimento: Classifica textos como positivos, negativos ou neutros.\n",
        "\n",
        "    2. Classificação de Texto: Pode ser usada para categorizar textos em diferentes classes.\n",
        "\n",
        "    3. Extração de Frases: Permite extrair frases e palavras-chave de um texto.\n",
        "\n",
        "    4. Tradução e Correção Gramatical: Usa a API do Google para traduzir textos e corrigir erros de digitação.\n",
        "\n",
        "    5. Tokenização: Separa um texto em palavras ou frases."
      ],
      "metadata": {
        "id": "fE-eyGHnaJep"
      }
    },
    {
      "cell_type": "markdown",
      "source": [
        "# Importando o textblob"
      ],
      "metadata": {
        "id": "1i8WhFgFagXA"
      }
    },
    {
      "cell_type": "code",
      "source": [
        "from textblob import TextBlob"
      ],
      "metadata": {
        "id": "mwk1l7Zcaoe4"
      },
      "execution_count": 2,
      "outputs": []
    },
    {
      "cell_type": "code",
      "source": [
        "texto = \"Eu amo aprender sobre inteligência artificial!\"\n",
        "blob = TextBlob(texto)\n",
        "\n",
        "sentimento = blob.sentiment\n",
        "print(sentimento)  # Mostra polaridade e subjetividade\n"
      ],
      "metadata": {
        "colab": {
          "base_uri": "https://localhost:8080/"
        },
        "id": "xVqF515AawLg",
        "outputId": "7df27e6d-9761-464c-9239-506d29672664"
      },
      "execution_count": 3,
      "outputs": [
        {
          "output_type": "stream",
          "name": "stdout",
          "text": [
            "Sentiment(polarity=-0.75, subjectivity=1.0)\n"
          ]
        }
      ]
    },
    {
      "cell_type": "markdown",
      "source": [
        "# Instalação de Dependências\n",
        "\n",
        "Para algumas funcionalidades, como a análise de sentimento, você pode precisar instalar os corpora do NLTK:"
      ],
      "metadata": {
        "id": "eRVY5Dsja_n_"
      }
    },
    {
      "cell_type": "markdown",
      "source": [
        "python -m textblob.download_corpora"
      ],
      "metadata": {
        "id": "9gsEL9B6bLf2"
      }
    },
    {
      "cell_type": "markdown",
      "source": [
        "# Principais Funcionalidades do TextBlob\n",
        "\n",
        "    Análise de Sentimento:\n",
        "        1. A análise de sentimento do TextBlob fornece uma pontuação de polaridade (de -1 a 1) e uma pontuação de subjetividade (de 0 a 1).\n",
        "\n",
        "        2. Polaridade: Indica se o sentimento é negativo, neutro ou positivo.\n",
        "        3. Subjetividade: Indica se o texto é mais opinativo (próximo de 1) ou mais factual (próximo de 0)."
      ],
      "metadata": {
        "id": "IO-otzJkbVAO"
      }
    },
    {
      "cell_type": "code",
      "source": [
        "texto = \"O filme foi incrível!\"\n",
        "blob = TextBlob(texto)\n",
        "print(blob.sentiment)  # Exibe polaridade e subjetividade\n"
      ],
      "metadata": {
        "colab": {
          "base_uri": "https://localhost:8080/"
        },
        "id": "ktkh7m0gbmwN",
        "outputId": "8d117d23-2a5b-4623-f0ec-72a6735d9a7b"
      },
      "execution_count": 6,
      "outputs": [
        {
          "output_type": "stream",
          "name": "stdout",
          "text": [
            "Sentiment(polarity=0.0, subjectivity=0.0)\n"
          ]
        }
      ]
    },
    {
      "cell_type": "markdown",
      "source": [
        "# Tokenização:\n",
        "\n",
        "    O TextBlob pode dividir um texto em palavras ou frases.\n",
        "\n"
      ],
      "metadata": {
        "id": "a_70oyTnb1Yt"
      }
    },
    {
      "cell_type": "code",
      "source": [
        "! python -m textblob.download_corpora"
      ],
      "metadata": {
        "colab": {
          "base_uri": "https://localhost:8080/"
        },
        "id": "axbusGRJcL2E",
        "outputId": "5e5f89ff-0c3c-4212-a26a-846697fc2599"
      },
      "execution_count": 8,
      "outputs": [
        {
          "output_type": "stream",
          "name": "stdout",
          "text": [
            "[nltk_data] Downloading package brown to /root/nltk_data...\n",
            "[nltk_data]   Unzipping corpora/brown.zip.\n",
            "[nltk_data] Downloading package punkt to /root/nltk_data...\n",
            "[nltk_data]   Unzipping tokenizers/punkt.zip.\n",
            "[nltk_data] Downloading package wordnet to /root/nltk_data...\n",
            "[nltk_data] Downloading package averaged_perceptron_tagger to\n",
            "[nltk_data]     /root/nltk_data...\n",
            "[nltk_data]   Unzipping taggers/averaged_perceptron_tagger.zip.\n",
            "[nltk_data] Downloading package conll2000 to /root/nltk_data...\n",
            "[nltk_data]   Unzipping corpora/conll2000.zip.\n",
            "[nltk_data] Downloading package movie_reviews to /root/nltk_data...\n",
            "[nltk_data]   Unzipping corpora/movie_reviews.zip.\n",
            "Finished.\n"
          ]
        }
      ]
    },
    {
      "cell_type": "code",
      "source": [
        "import nltk\n",
        ""
      ],
      "metadata": {
        "id": "YL6K_Ns8cWWK"
      },
      "execution_count": 10,
      "outputs": []
    },
    {
      "cell_type": "code",
      "source": [
        "frases = blob.sentences\n",
        "palavras = blob.words\n",
        "print(frases)  # Exibe as frases\n",
        "print(palavras)  # Exibe as palavras\n"
      ],
      "metadata": {
        "colab": {
          "base_uri": "https://localhost:8080/"
        },
        "id": "ayHW_sl0b-FU",
        "outputId": "441f6332-fc1f-40b2-e84a-ca4d73518135"
      },
      "execution_count": 11,
      "outputs": [
        {
          "output_type": "stream",
          "name": "stdout",
          "text": [
            "[Sentence(\"O filme foi incrível!\")]\n",
            "['O', 'filme', 'foi', 'incrível']\n"
          ]
        }
      ]
    },
    {
      "cell_type": "markdown",
      "source": [
        "# Correção Gramatical:\n",
        "\n",
        "    O TextBlob pode corrigir erros de digitação ou gramática."
      ],
      "metadata": {
        "id": "eTxFE7hKckFT"
      }
    },
    {
      "cell_type": "code",
      "source": [
        "erro = TextBlob(\"Eu estuando IA\")\n",
        "corrigido = erro.correct()\n",
        "print(corrigido)  # Exibe a correção"
      ],
      "metadata": {
        "colab": {
          "base_uri": "https://localhost:8080/"
        },
        "id": "Iq9RQS7Dcrn2",
        "outputId": "76920506-747a-482a-f592-7d948ef28b25"
      },
      "execution_count": 12,
      "outputs": [
        {
          "output_type": "stream",
          "name": "stdout",
          "text": [
            "U estuando of\n"
          ]
        }
      ]
    },
    {
      "cell_type": "markdown",
      "source": [
        "\n",
        "\n",
        "    # Para traduzir textos, o TextBlob usa a API do Google."
      ],
      "metadata": {
        "id": "UAhVtCMMc2aJ"
      }
    },
    {
      "cell_type": "code",
      "source": [
        "\n",
        "\n",
        "#!pip install googletrans==4.0.0-rc1\n",
        "from googletrans import Translator\n",
        "\n",
        "translator = Translator()\n",
        "texto_em_ingles = \"Hello, you are?\"\n",
        "texto_traduzido = translator.translate(texto_em_ingles, dest='pt')\n",
        "print(texto_traduzido.text)"
      ],
      "metadata": {
        "colab": {
          "base_uri": "https://localhost:8080/"
        },
        "id": "bn_N2JtNkjCV",
        "outputId": "a078ba8f-a348-4780-e8f4-80dc26f689a5"
      },
      "execution_count": 40,
      "outputs": [
        {
          "output_type": "stream",
          "name": "stdout",
          "text": [
            "Olá, você é?\n"
          ]
        }
      ]
    },
    {
      "cell_type": "markdown",
      "source": [
        "# Nomes e Entidades:\n",
        "\n",
        "    Você pode extrair entidades nomeadas de um texto.\n",
        "\n",
        "\n"
      ],
      "metadata": {
        "id": "GfodZFV_fn4D"
      }
    },
    {
      "cell_type": "code",
      "source": [
        "blob = TextBlob(\"Barack Obama foi o 44º presidente dos EUA.\")\n",
        "print(blob.noun_phrases)  # Exibe frases nominais"
      ],
      "metadata": {
        "colab": {
          "base_uri": "https://localhost:8080/"
        },
        "id": "9PT9iIE7fvvH",
        "outputId": "1595e338-556d-42c1-b4fa-cf59c44302a9"
      },
      "execution_count": 28,
      "outputs": [
        {
          "output_type": "stream",
          "name": "stdout",
          "text": [
            "['barack obama', 'foi o 44º presidente dos', 'eua']\n"
          ]
        }
      ]
    },
    {
      "cell_type": "markdown",
      "source": [
        "# TextBlob é uma ferramenta poderosa e fácil de usar para processamento de linguagem natural. É excelente para quem está começando, pois fornece uma interface simples para realizar análises complexas. Se você quiser explorar algo específico ou tiver dúvidas sobre implementações,"
      ],
      "metadata": {
        "id": "6ref1F6-iLrM"
      }
    },
    {
      "cell_type": "code",
      "source": [],
      "metadata": {
        "id": "2gwv4Pj8iTj9"
      },
      "execution_count": null,
      "outputs": []
    }
  ]
}